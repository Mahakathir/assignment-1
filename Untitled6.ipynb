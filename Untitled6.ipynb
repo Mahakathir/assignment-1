{
 "cells": [
  {
   "cell_type": "code",
   "execution_count": 1,
   "id": "691a5b3d",
   "metadata": {},
   "outputs": [],
   "source": [
    "import cv2 as a"
   ]
  },
  {
   "cell_type": "code",
   "execution_count": 2,
   "id": "b6382318",
   "metadata": {},
   "outputs": [],
   "source": [
    "img=a.imread(\"te.jpeg\")"
   ]
  },
  {
   "cell_type": "code",
   "execution_count": 3,
   "id": "61ac90f3",
   "metadata": {},
   "outputs": [],
   "source": [
    "grey=a.imread(\"te.jpeg\",0)"
   ]
  },
  {
   "cell_type": "code",
   "execution_count": 4,
   "id": "29cdc088",
   "metadata": {},
   "outputs": [],
   "source": [
    "a.imshow(\"normal image\",img)\n",
    "a.waitKey(0)\n",
    "a.destroyAllWindows()\n",
    "a.imshow(\"grey_image\",grey)\n",
    "a.waitKey(0)\n",
    "a.destroyAllWindows()"
   ]
  },
  {
   "cell_type": "code",
   "execution_count": 5,
   "id": "50c93cce",
   "metadata": {},
   "outputs": [
    {
     "data": {
      "text/plain": [
       "True"
      ]
     },
     "execution_count": 5,
     "metadata": {},
     "output_type": "execute_result"
    }
   ],
   "source": [
    "a.imwrite(\"C:/Users/MAHAKATHIR/ai(computer vision)/readed images/normalimage.jpg\",img)"
   ]
  },
  {
   "cell_type": "code",
   "execution_count": 6,
   "id": "b035d9ff",
   "metadata": {},
   "outputs": [
    {
     "data": {
      "text/plain": [
       "True"
      ]
     },
     "execution_count": 6,
     "metadata": {},
     "output_type": "execute_result"
    }
   ],
   "source": [
    "a.imwrite(\"C:/Users/MAHAKATHIR/ai(computer vision)/readed images/grey_image.jpg\",grey)"
   ]
  },
  {
   "cell_type": "code",
   "execution_count": 7,
   "id": "1d60e208",
   "metadata": {},
   "outputs": [
    {
     "name": "stdout",
     "output_type": "stream",
     "text": [
      "(296, 474, 3)\n"
     ]
    }
   ],
   "source": [
    "print(img.shape)"
   ]
  },
  {
   "cell_type": "code",
   "execution_count": 8,
   "id": "9d45b8f7",
   "metadata": {},
   "outputs": [],
   "source": [
    "resize_img=a.resize(img,None,fx=0.5,fy=0.5,interpolation=a.INTER_LINEAR)"
   ]
  },
  {
   "cell_type": "code",
   "execution_count": 9,
   "id": "04143c75",
   "metadata": {},
   "outputs": [
    {
     "name": "stdout",
     "output_type": "stream",
     "text": [
      "(148, 237, 3)\n"
     ]
    }
   ],
   "source": [
    "print(resize_img.shape)"
   ]
  },
  {
   "cell_type": "code",
   "execution_count": 10,
   "id": "321b0e58",
   "metadata": {},
   "outputs": [],
   "source": [
    "a.imshow(\"resize_img\",resize_img)\n",
    "a.waitKey(0)\n",
    "a.destroyAllWindows()"
   ]
  },
  {
   "cell_type": "code",
   "execution_count": 23,
   "id": "ac4302c6",
   "metadata": {},
   "outputs": [
    {
     "data": {
      "text/plain": [
       "True"
      ]
     },
     "execution_count": 23,
     "metadata": {},
     "output_type": "execute_result"
    }
   ],
   "source": [
    "a.imwrite(\"C:/Users/MAHAKATHIR/ai(computer vision)/readed images/resize_image.jpg\",resize_img)"
   ]
  },
  {
   "cell_type": "code",
   "execution_count": 11,
   "id": "e52a8a6a",
   "metadata": {},
   "outputs": [
    {
     "name": "stdout",
     "output_type": "stream",
     "text": [
      "[[250 250 250 ... 245 246 246]\n",
      " [250 249 250 ... 249 251 250]\n",
      " [250 248 250 ... 255 252 250]\n",
      " ...\n",
      " [144 139 140 ...  65  78  78]\n",
      " [162 143 131 ...  50  63  63]\n",
      " [175 144 121 ...  49  61  61]] [[64 64 64 ... 83 85 85]\n",
      " [62 63 62 ... 85 86 86]\n",
      " [60 60 60 ... 86 81 81]\n",
      " ...\n",
      " [43 38 39 ... 62 75 75]\n",
      " [63 44 32 ... 48 61 61]\n",
      " [78 47 22 ... 47 59 59]] [[  4   4   4 ...  11  11  11]\n",
      " [  3   3   3 ...  12  13  13]\n",
      " [  1   1   1 ...  11   6   6]\n",
      " ...\n",
      " [ 11   6   7 ... 101 114 114]\n",
      " [ 31  12   0 ...  84  97  97]\n",
      " [ 45  14   0 ...  83  95  95]]\n"
     ]
    }
   ],
   "source": [
    "b,g,r=a.split(img)\n",
    "a.imshow(\"b\",b)\n",
    "a.waitKey(0)\n",
    "a.imshow(\"g\",g)\n",
    "a.waitKey(0)\n",
    "a.imshow(\"r\",r)\n",
    "a.waitKey(0)\n",
    "print(b,g,r)"
   ]
  },
  {
   "cell_type": "code",
   "execution_count": 27,
   "id": "6d915e0b",
   "metadata": {},
   "outputs": [
    {
     "data": {
      "text/plain": [
       "True"
      ]
     },
     "execution_count": 27,
     "metadata": {},
     "output_type": "execute_result"
    }
   ],
   "source": [
    "a.imwrite(\"C:/Users/MAHAKATHIR/ai(computer vision)/readed images/blue_split_img.jpg\",b)\n",
    "a.imwrite(\"C:/Users/MAHAKATHIR/ai(computer vision)/readed images/green_split_image.jpg\",g)\n",
    "a.imwrite(\"C:/Users/MAHAKATHIR/ai(computer vision)/readed images/red_split_image.jpg\",r)"
   ]
  },
  {
   "cell_type": "code",
   "execution_count": 12,
   "id": "ae6e01f3",
   "metadata": {},
   "outputs": [],
   "source": [
    "roi=img[0:100,0:100]\n",
    "a.imshow(\"roi\",roi)\n",
    "a.waitKey(0)\n",
    "a.destroyAllWindows()"
   ]
  },
  {
   "cell_type": "code",
   "execution_count": 30,
   "id": "8deb0cc1",
   "metadata": {},
   "outputs": [
    {
     "data": {
      "text/plain": [
       "True"
      ]
     },
     "execution_count": 30,
     "metadata": {},
     "output_type": "execute_result"
    }
   ],
   "source": [
    "a.imwrite(\"C:/Users/MAHAKATHIR/ai(computer vision)/readed images/region_of_interest.jpg\",roi)"
   ]
  },
  {
   "cell_type": "code",
   "execution_count": 13,
   "id": "867cf6e6",
   "metadata": {},
   "outputs": [],
   "source": [
    "mer=a.merge((b,g,r))\n",
    "a.imshow(\"mer\",mer)\n",
    "a.waitKey(0)\n",
    "a.destroyAllWindows()"
   ]
  },
  {
   "cell_type": "code",
   "execution_count": 13,
   "id": "f73ccbfb",
   "metadata": {},
   "outputs": [
    {
     "data": {
      "text/plain": [
       "True"
      ]
     },
     "execution_count": 13,
     "metadata": {},
     "output_type": "execute_result"
    }
   ],
   "source": [
    "a.imwrite(\"C:/Users/MAHAKATHIR/ai(computer vision)/readed images/merge_image.jpg\",mer)"
   ]
  },
  {
   "cell_type": "code",
   "execution_count": 14,
   "id": "96ce83ac",
   "metadata": {},
   "outputs": [],
   "source": [
    "img1=a.imread(\"im1.png\")\n",
    "img2=a.imread(\"im2.png\")\n",
    "img3=a.imread(\"im3.png\")"
   ]
  },
  {
   "cell_type": "code",
   "execution_count": 15,
   "id": "b314ef21",
   "metadata": {},
   "outputs": [
    {
     "data": {
      "text/plain": [
       "True"
      ]
     },
     "execution_count": 15,
     "metadata": {},
     "output_type": "execute_result"
    }
   ],
   "source": [
    "a.imwrite(\"C:/Users/MAHAKATHIR/ai(computer vision)/readed images/full_green.jpg\",img1)\n",
    "a.imwrite(\"C:/Users/MAHAKATHIR/ai(computer vision)/readed images/circle_shape.jpg\",img2)\n",
    "a.imwrite(\"C:/Users/MAHAKATHIR/ai(computer vision)/readed images/star_shape.jpg\",img3)"
   ]
  },
  {
   "cell_type": "code",
   "execution_count": 15,
   "id": "5baa1a08",
   "metadata": {},
   "outputs": [],
   "source": [
    "add_photo=a.addWeighted(img1,0.7,img2,0.5,1)\n",
    "a.imshow(\"add\",add_photo)\n",
    "a.waitKey(0)\n",
    "a.destroyAllWindows()"
   ]
  },
  {
   "cell_type": "code",
   "execution_count": 15,
   "id": "f357aa8a",
   "metadata": {},
   "outputs": [
    {
     "data": {
      "text/plain": [
       "True"
      ]
     },
     "execution_count": 15,
     "metadata": {},
     "output_type": "execute_result"
    }
   ],
   "source": [
    "a.imwrite(\"C:/Users/MAHAKATHIR/ai(computer vision)/readed images/arith_add.jpg\",add_photo)"
   ]
  },
  {
   "cell_type": "code",
   "execution_count": 16,
   "id": "ec536522",
   "metadata": {},
   "outputs": [],
   "source": [
    "sub=a.subtract(img1,img2)\n",
    "a.imshow(\"sub\",sub)\n",
    "a.waitKey(0)\n",
    "a.destroyAllWindows()"
   ]
  },
  {
   "cell_type": "code",
   "execution_count": 17,
   "id": "d8f8c11e",
   "metadata": {},
   "outputs": [
    {
     "data": {
      "text/plain": [
       "True"
      ]
     },
     "execution_count": 17,
     "metadata": {},
     "output_type": "execute_result"
    }
   ],
   "source": [
    "a.imwrite(\"C:/Users/MAHAKATHIR/ai(computer vision)/readed images/arith_sub.jpg\",sub)"
   ]
  },
  {
   "cell_type": "code",
   "execution_count": 17,
   "id": "925c93d9",
   "metadata": {},
   "outputs": [],
   "source": [
    "b=a.blur(img,(5,5))\n",
    "gau=a.GaussianBlur(img,(5,5),5)\n",
    "med=a.medianBlur(img,9)\n",
    "bilate=a.bilateralFilter(img,50,50,20)"
   ]
  },
  {
   "cell_type": "code",
   "execution_count": 18,
   "id": "2f42107a",
   "metadata": {},
   "outputs": [],
   "source": [
    "a.imshow(\"blur\",b)\n",
    "a.waitKey(0)\n",
    "a.destroyAllWindows()\n",
    "a.imshow(\"gau\",gau)\n",
    "a.waitKey(0)\n",
    "a.destroyAllWindows()\n",
    "a.imshow(\"median\",med)\n",
    "a.waitKey(0)\n",
    "a.destroyAllWindows()\n",
    "a.imshow(\"bilateral\",bilate)\n",
    "a.waitKey(0)\n",
    "a.destroyAllWindows()"
   ]
  },
  {
   "cell_type": "code",
   "execution_count": 21,
   "id": "5d7c1aab",
   "metadata": {},
   "outputs": [
    {
     "data": {
      "text/plain": [
       "True"
      ]
     },
     "execution_count": 21,
     "metadata": {},
     "output_type": "execute_result"
    }
   ],
   "source": [
    "a.imwrite(\"C:/Users/MAHAKATHIR/ai(computer vision)/readed images/normal_blur.jpg\",b)\n",
    "a.imwrite(\"C:/Users/MAHAKATHIR/ai(computer vision)/readed images/gaussian_blur.jpg\",gau)\n",
    "a.imwrite(\"C:/Users/MAHAKATHIR/ai(computer vision)/readed images/median_blur.jpg\",med)\n",
    "a.imwrite(\"C:/Users/MAHAKATHIR/ai(computer vision)/readed images/bilateral_filter.jpg\",bilate)"
   ]
  },
  {
   "cell_type": "code",
   "execution_count": 19,
   "id": "15186892",
   "metadata": {},
   "outputs": [
    {
     "name": "stdout",
     "output_type": "stream",
     "text": [
      "(296, 474, 3)\n",
      "296\n",
      "474\n",
      "(148.0, 237.0)\n",
      "[[  0.35355339   0.35355339  11.88194462]\n",
      " [ -0.35355339   0.35355339 205.53374824]]\n"
     ]
    }
   ],
   "source": [
    "shape=img.shape\n",
    "print(shape)\n",
    "height,width=img.shape[:2]\n",
    "print(height)\n",
    "print(width)\n",
    "center=(height/2,width/2)\n",
    "print(center)\n",
    "rotate_matrix=a.getRotationMatrix2D(center=center,angle=45,scale=0.5)\n",
    "print(rotate_matrix)\n",
    "rotated_img=a.warpAffine(src=img,M=rotate_matrix,dsize=(width,height))\n",
    "a.imshow(\"original image\",img)\n",
    "a.waitKey(0)\n",
    "a.destroyAllWindows()\n",
    "a.imshow(\"rotated image\",rotated_img)\n",
    "a.waitKey(0)\n",
    "a.destroyAllWindows()"
   ]
  },
  {
   "cell_type": "code",
   "execution_count": 20,
   "id": "0cd9f6ec",
   "metadata": {},
   "outputs": [
    {
     "data": {
      "text/plain": [
       "True"
      ]
     },
     "execution_count": 20,
     "metadata": {},
     "output_type": "execute_result"
    }
   ],
   "source": [
    "a.imwrite(\"C:/Users/MAHAKATHIR/ai(computer vision)/readed images/rotated_image.jpg\",rotated_img)"
   ]
  },
  {
   "cell_type": "code",
   "execution_count": null,
   "id": "0459b469",
   "metadata": {},
   "outputs": [],
   "source": []
  }
 ],
 "metadata": {
  "kernelspec": {
   "display_name": "Python 3 (ipykernel)",
   "language": "python",
   "name": "python3"
  },
  "language_info": {
   "codemirror_mode": {
    "name": "ipython",
    "version": 3
   },
   "file_extension": ".py",
   "mimetype": "text/x-python",
   "name": "python",
   "nbconvert_exporter": "python",
   "pygments_lexer": "ipython3",
   "version": "3.9.15"
  }
 },
 "nbformat": 4,
 "nbformat_minor": 5
}
